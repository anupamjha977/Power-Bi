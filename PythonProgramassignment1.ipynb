{
 "cells": [
  {
   "cell_type": "markdown",
   "id": "0333736a",
   "metadata": {},
   "source": [
    "1. Write a Python program to print &quot;Hello Python&quot;?<br>\n",
    "2. Write a Python program to do arithmetical operations addition and division.?<br>\n",
    "3. Write a Python program to find the area of a triangle?<br>\n",
    "4. Write a Python program to swap two variables?<br>\n",
    "5. Write a Python program to generate a random number?"
   ]
  },
  {
   "cell_type": "code",
   "execution_count": 1,
   "id": "98fa2a73",
   "metadata": {},
   "outputs": [
    {
     "name": "stdout",
     "output_type": "stream",
     "text": [
      "Hello Python\n"
     ]
    }
   ],
   "source": [
    "print(\"Hello Python\")"
   ]
  },
  {
   "cell_type": "code",
   "execution_count": 3,
   "id": "f0e562c5",
   "metadata": {},
   "outputs": [
    {
     "name": "stdout",
     "output_type": "stream",
     "text": [
      "addition is : 4\n",
      "subtraction is : 2\n"
     ]
    }
   ],
   "source": [
    "def adds(a,b):\n",
    "    b=a+b\n",
    "    print(\"addition is :\",b)\n",
    "def subs(a,b):\n",
    "    a=b-a\n",
    "    print(\"subtraction is :\",a)\n",
    "adds(1,3)\n",
    "subs(1,3)"
   ]
  },
  {
   "cell_type": "code",
   "execution_count": 4,
   "id": "e2ad9685",
   "metadata": {},
   "outputs": [
    {
     "name": "stdout",
     "output_type": "stream",
     "text": [
      "triangle area is : 16.0\n"
     ]
    }
   ],
   "source": [
    "def triarea(b,h):\n",
    "    area=(1/2)*b*h\n",
    "    print(\"triangle area is :\",area)\n",
    "triarea(4,8)"
   ]
  },
  {
   "cell_type": "code",
   "execution_count": 5,
   "id": "6da5be83",
   "metadata": {},
   "outputs": [
    {
     "name": "stdout",
     "output_type": "stream",
     "text": [
      "new value of a and b are 8 4\n"
     ]
    }
   ],
   "source": [
    "def swaps(a,b):\n",
    "    a,b=b,a\n",
    "    print(\"new value of a and b are\",a,b)\n",
    "swaps(4,8)"
   ]
  },
  {
   "cell_type": "code",
   "execution_count": 8,
   "id": "d6dfe996",
   "metadata": {},
   "outputs": [
    {
     "data": {
      "text/plain": [
       "0.13557721253993438"
      ]
     },
     "execution_count": 8,
     "metadata": {},
     "output_type": "execute_result"
    }
   ],
   "source": [
    "import random\n",
    "random.random()"
   ]
  },
  {
   "cell_type": "code",
   "execution_count": null,
   "id": "1feb50e0",
   "metadata": {},
   "outputs": [],
   "source": []
  }
 ],
 "metadata": {
  "kernelspec": {
   "display_name": "Python 3 (ipykernel)",
   "language": "python",
   "name": "python3"
  },
  "language_info": {
   "codemirror_mode": {
    "name": "ipython",
    "version": 3
   },
   "file_extension": ".py",
   "mimetype": "text/x-python",
   "name": "python",
   "nbconvert_exporter": "python",
   "pygments_lexer": "ipython3",
   "version": "3.9.7"
  }
 },
 "nbformat": 4,
 "nbformat_minor": 5
}
