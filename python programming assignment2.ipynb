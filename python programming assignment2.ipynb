{
 "cells": [
  {
   "cell_type": "markdown",
   "id": "64dbed2d",
   "metadata": {},
   "source": [
    "1. Write a Python program to convert kilometers to miles?<br>\n",
    "2. Write a Python program to convert Celsius to Fahrenheit?<br>\n",
    "3. Write a Python program to display calendar?<br>\n",
    "4. Write a Python program to solve quadratic equation?<br>\n",
    "5. Write a Python program to swap two variables without temp variable?<br>"
   ]
  },
  {
   "cell_type": "code",
   "execution_count": 2,
   "id": "eaae7367",
   "metadata": {},
   "outputs": [
    {
     "name": "stdout",
     "output_type": "stream",
     "text": [
      "New value of a is 7,b is 9\n"
     ]
    }
   ],
   "source": [
    "def swaps(a,b):\n",
    "    a=a+b\n",
    "    b=a-b\n",
    "    a=a-b\n",
    "    print(\"New value of a is {},b is {}\".format(a,b))\n",
    "swaps(9,7)\n"
   ]
  },
  {
   "cell_type": "code",
   "execution_count": 4,
   "id": "bd7c52f6",
   "metadata": {},
   "outputs": [
    {
     "name": "stdout",
     "output_type": "stream",
     "text": [
      "Miles values is 161.29032258064515 miles\n"
     ]
    }
   ],
   "source": [
    "def kmmiles(k):\n",
    "    m=k/0.62\n",
    "    print(\"Miles values is {} miles\".format(m))\n",
    "kmmiles(100)\n",
    "    "
   ]
  },
  {
   "cell_type": "code",
   "execution_count": 6,
   "id": "4bb9ab78",
   "metadata": {},
   "outputs": [
    {
     "name": "stdout",
     "output_type": "stream",
     "text": [
      "Temperature in farhenit is 68.0f\n"
     ]
    }
   ],
   "source": [
    "def celfarhenit(c):\n",
    "    f=(9/5)*c+32\n",
    "    print(\"Temperature in farhenit is {}f\".format(f))\n",
    "celfarhenit(20)"
   ]
  },
  {
   "cell_type": "code",
   "execution_count": 8,
   "id": "78b96bae",
   "metadata": {},
   "outputs": [
    {
     "name": "stdout",
     "output_type": "stream",
     "text": [
      "     July 2022\n",
      "Mo Tu We Th Fr Sa Su\n",
      "             1  2  3\n",
      " 4  5  6  7  8  9 10\n",
      "11 12 13 14 15 16 17\n",
      "18 19 20 21 22 23 24\n",
      "25 26 27 28 29 30 31\n",
      "\n"
     ]
    }
   ],
   "source": [
    "import calendar\n",
    "print(calendar.month(2022,7))"
   ]
  },
  {
   "cell_type": "code",
   "execution_count": 12,
   "id": "c0bd0707",
   "metadata": {},
   "outputs": [
    {
     "name": "stdout",
     "output_type": "stream",
     "text": [
      "the two roots are -2.0, -3.0\n"
     ]
    }
   ],
   "source": [
    "import math\n",
    "def square2(a,b,c):\n",
    "    g=(-b+math.sqrt(b*b-4*a*c))/2*a\n",
    "    f=(-b-math.sqrt(b*b-4*a*c))/2*a\n",
    "    print(\"the two roots are {}, {}\".format(g,f))\n",
    "square2(1,5,6)\n",
    "\n"
   ]
  },
  {
   "cell_type": "code",
   "execution_count": null,
   "id": "c92ddc94",
   "metadata": {},
   "outputs": [],
   "source": []
  }
 ],
 "metadata": {
  "kernelspec": {
   "display_name": "Python 3 (ipykernel)",
   "language": "python",
   "name": "python3"
  },
  "language_info": {
   "codemirror_mode": {
    "name": "ipython",
    "version": 3
   },
   "file_extension": ".py",
   "mimetype": "text/x-python",
   "name": "python",
   "nbconvert_exporter": "python",
   "pygments_lexer": "ipython3",
   "version": "3.9.7"
  }
 },
 "nbformat": 4,
 "nbformat_minor": 5
}
